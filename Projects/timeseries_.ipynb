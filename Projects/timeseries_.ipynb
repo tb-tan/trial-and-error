{
 "cells": [
  {
   "cell_type": "markdown",
   "id": "6ee5b689",
   "metadata": {},
   "source": [
    "### A part of solution is displayed here\n",
    "\n",
    "Documentation of Arsenal which i used as my model:\n",
    "https://www.sktime.net/en/stable/api_reference/auto_generated/sktime.classification.kernel_based.Arsenal.html"
   ]
  },
  {
   "cell_type": "code",
   "execution_count": 1,
   "id": "b15f124d-534c-46d1-8e4d-1ea29e21f124",
   "metadata": {},
   "outputs": [],
   "source": [
    "import numpy as np\n",
    "import pandas as pd\n",
    "from sklearn.neighbors import KNeighborsClassifier\n",
    "from sklearn.metrics import accuracy_score\n",
    "from sklearn.model_selection import GridSearchCV\n",
    "from sklearn.model_selection import RandomizedSearchCV\n",
    "from sklearn.model_selection import KFold, cross_val_score, train_test_split\n",
    "from sktime.classification.distance_based import KNeighborsTimeSeriesClassifier\n",
    "from sktime.classification.kernel_based import Arsenal\n"
   ]
  },
  {
   "cell_type": "code",
   "execution_count": 2,
   "id": "f4c8cdb4-fd2a-4655-95cb-6a3fc8b1e5c9",
   "metadata": {},
   "outputs": [],
   "source": [
    "# Load the data\n",
    "data = np.load('challenge.npz')\n",
    "X = data['arr_0']\n",
    "y = data['arr_1']\n",
    "\n",
    "test_data = np.load('test.npz')\n",
    "Xtest = test_data['arr_0']"
   ]
  },
  {
   "cell_type": "code",
   "execution_count": 3,
   "id": "dee978d4",
   "metadata": {},
   "outputs": [],
   "source": [
    "# Split the dataset\n",
    "X_train, X_test, y_train, y_test = train_test_split(X, y, test_size=0.33, random_state=42)"
   ]
  },
  {
   "cell_type": "code",
   "execution_count": 34,
   "id": "f97f9d8d",
   "metadata": {},
   "outputs": [
    {
     "name": "stdout",
     "output_type": "stream",
     "text": [
      "Arsenal Accuracy: 0.68\n",
      "Arsenal Parameters: {'contract_max_n_estimators': 100, 'max_dilations_per_kernel': 32, 'n_estimators': 25, 'n_features_per_kernel': 4, 'n_jobs': 1, 'num_kernels': 2000, 'random_state': None, 'rocket_transform': 'rocket', 'save_transformed_data': False, 'time_limit_in_minutes': 0.0}\n"
     ]
    }
   ],
   "source": [
    "# Arsenal()\n",
    "# Arsenal captures more patterns; applies larger # of random kernels; better for small datasets \n",
    "\n",
    "arsenal = Arsenal() \n",
    "arsenal.fit(X_train, y_train) \n",
    "y_pred_arsenal = arsenal.predict(X_test) \n",
    "\n",
    "accuracy_arsenal = accuracy_score(y_test, y_pred_arsenal)\n",
    "print(f\"Arsenal Accuracy: {accuracy_arsenal:.2f}\")\n",
    "\n",
    "default = Arsenal().get_params()\n",
    "print(f\"Arsenal Parameters: {default}\")"
   ]
  },
  {
   "cell_type": "code",
   "execution_count": 40,
   "id": "86e6fe94",
   "metadata": {},
   "outputs": [
    {
     "name": "stdout",
     "output_type": "stream",
     "text": [
      "Cross-validation score: [0.8125 0.625  0.6875 0.75   0.6875]\n"
     ]
    }
   ],
   "source": [
    "arsenal_grid = Arsenal()\n",
    "cross_val_score_arsenal = cross_val_score(arsenal_grid, X_train, y_train, cv= KFold(n_splits=5))\n",
    "print(f\"Cross-validation score: {cross_val_score_arsenal}\")"
   ]
  },
  {
   "cell_type": "code",
   "execution_count": 41,
   "id": "f8e1a459",
   "metadata": {},
   "outputs": [
    {
     "name": "stderr",
     "output_type": "stream",
     "text": [
      "/Library/Frameworks/Python.framework/Versions/3.12/lib/python3.12/site-packages/sklearn/model_selection/_search.py:318: UserWarning: The total space of parameters 4 is smaller than n_iter=10. Running 4 iterations. For exhaustive searches, use GridSearchCV.\n",
      "  warnings.warn(\n"
     ]
    },
    {
     "name": "stdout",
     "output_type": "stream",
     "text": [
      "Best parameters for Arsenal: {'n_features_per_kernel': 8, 'n_estimators': 25, 'max_dilations_per_kernel': 32}\n"
     ]
    }
   ],
   "source": [
    "# Hyperparameter Tuning for Arsenal (RandomizedSearch because of computational time)\n",
    "\n",
    "param_grid = {\n",
    "    'n_estimators': [25, 50],  # Example values for n_estimators\n",
    "    'n_features_per_kernel': [4, 8],\n",
    "    'max_dilations_per_kernel': [32],\n",
    "}\n",
    "random_search_arsenal = RandomizedSearchCV(arsenal_grid, param_grid,  cv = KFold(n_splits = 5))\n",
    "random_search_arsenal.fit(X_train, y_train)\n",
    "\n",
    "print(f\"Best parameters for Arsenal: {random_search_arsenal.best_params_}\")"
   ]
  },
  {
   "cell_type": "code",
   "execution_count": 46,
   "id": "e7cf0c8c",
   "metadata": {},
   "outputs": [
    {
     "name": "stdout",
     "output_type": "stream",
     "text": [
      "Arsenal Accuracy after Hyperparameter Tuning: 0.68\n"
     ]
    }
   ],
   "source": [
    "# Best parameters for Arsenal: {'n_features_per_kernel': 8, 'n_estimators': 25, 'max_dilations_per_kernel': 32}\n",
    "\n",
    "best_arsenal = random_search_arsenal.best_estimator_\n",
    "best_arsenal.fit(X_train, y_train)\n",
    "\n",
    "# Predict the labels of the testing data\n",
    "y_pred = best_arsenal.predict(X_test)\n",
    "\n",
    "# Compute the accuracy score\n",
    "accuracy_arsenal = accuracy_score(y_test, y_pred)\n",
    "print(f\"Arsenal Accuracy after Hyperparameter Tuning: {accuracy_arsenal:.2f}\")"
   ]
  },
  {
   "cell_type": "code",
   "execution_count": null,
   "id": "e18a66d8",
   "metadata": {},
   "outputs": [
    {
     "name": "stdout",
     "output_type": "stream",
     "text": [
      "Cross-validation score: [0.875  0.625  0.6875 0.75   0.75  ]\n"
     ]
    }
   ],
   "source": [
    "# Cross-validation scores for Arsenal after Hyperparameter Tuning (Better than hyperparameter tuned kNN)\n",
    "cross_val_score_arsenal = cross_val_score(best_arsenal, X_train, y_train, cv= KFold(n_splits=5))\n",
    "print(f\"Cross-validation score: {cross_val_score_arsenal}\")"
   ]
  },
  {
   "cell_type": "code",
   "execution_count": null,
   "id": "f308ea7c",
   "metadata": {},
   "outputs": [],
   "source": [
    "# Prediction file\n",
    "best_arsenal.fit(X_train, y_train)\n",
    "y_pred = best_arsenal.predict(Xtest)\n",
    "np.savetxt(\"ypred.csv\", y_pred, delimiter=\",\")"
   ]
  }
 ],
 "metadata": {
  "kernelspec": {
   "display_name": "Python 3 (ipykernel)",
   "language": "python",
   "name": "python3"
  },
  "language_info": {
   "codemirror_mode": {
    "name": "ipython",
    "version": 3
   },
   "file_extension": ".py",
   "mimetype": "text/x-python",
   "name": "python",
   "nbconvert_exporter": "python",
   "pygments_lexer": "ipython3",
   "version": "3.12.2"
  }
 },
 "nbformat": 4,
 "nbformat_minor": 5
}
